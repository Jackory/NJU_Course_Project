{
 "cells": [
  {
   "cell_type": "markdown",
   "metadata": {},
   "source": [
    ".gnt to .png代码搬运自 http://www.codeceo.com/article/tensorflow-and-handwritten-chinese-character.html\n",
    "拷贝注意数据文件目录"
   ]
  },
  {
   "cell_type": "markdown",
   "metadata": {},
   "source": [
    "## .gnt to .png "
   ]
  },
  {
   "cell_type": "code",
   "execution_count": null,
   "metadata": {},
   "outputs": [],
   "source": [
    "import os\n",
    "import numpy as np\n",
    "import struct\n",
    "from PIL import Image\n",
    "\n",
    "data_dir = './dataset'\n",
    "train_data_dir = os.path.join(data_dir, 'HWDB1.1trn_gnt')\n",
    "test_data_dir = os.path.join(data_dir, 'HWDB1.1tst_gnt')\n",
    "\n",
    "def read_from_gnt_dir(gnt_dir=train_data_dir):\n",
    "    def one_file(f):\n",
    "        header_size = 10\n",
    "        while True:\n",
    "            header = np.fromfile(f, dtype='uint8', count=header_size)\n",
    "            if not header.size: break\n",
    "            sample_size = header[0] + (header[1]<<8) + (header[2]<<16) + (header[3]<<24)\n",
    "            tagcode = header[5] + (header[4]<<8)\n",
    "            width = header[6] + (header[7]<<8)\n",
    "            height = header[8] + (header[9]<<8)\n",
    "            if header_size + width*height != sample_size:\n",
    "                break\n",
    "            image = np.fromfile(f, dtype='uint8', count=width*height).reshape((height, width))\n",
    "            yield image, tagcode\n",
    "    for file_name in os.listdir(gnt_dir):\n",
    "        if file_name.endswith('.gnt'):\n",
    "            file_path = os.path.join(gnt_dir, file_name)\n",
    "            with open(file_path, 'rb') as f:\n",
    "                for image, tagcode in one_file(f):\n",
    "                    yield image, tagcode\n",
    "char_set = set()\n",
    "for _, tagcode in read_from_gnt_dir(gnt_dir=train_data_dir):\n",
    "    tagcode_unicode = struct.pack('>H', tagcode).decode('gb2312')\n",
    "    char_set.add(tagcode_unicode)\n",
    "char_list = list(char_set)\n",
    "char_dict = dict(zip(sorted(char_list), range(len(char_list))))\n",
    "print len(char_dict)\n",
    "import pickle\n",
    "f = open('char_dict', 'wb')\n",
    "pickle.dump(char_dict, f)\n",
    "f.close()\n",
    "train_counter = 0\n",
    "test_counter = 0\n",
    "\n",
    "for image, tagcode in read_from_gnt_dir(gnt_dir=train_data_dir):\n",
    "    tagcode_unicode = struct.pack('>H', tagcode).decode('gb2312')\n",
    "    im = Image.fromarray(image)\n",
    "    dir_name = './dataset/' + '%0.5d'%char_dict[tagcode_unicode]\n",
    "    if not os.path.exists(dir_name):\n",
    "        os.mkdir(dir_name)\n",
    "    im.convert('RGB').save(dir_name+'/' + str(train_counter) + '.png')\n",
    "    train_counter += 1"
   ]
  },
  {
   "cell_type": "markdown",
   "metadata": {},
   "source": [
    "转换过后，每个汉字图片放在不同的目录中，\n",
    "可通过`char_dict`字典查看目录索引"
   ]
  },
  {
   "cell_type": "code",
   "execution_count": null,
   "metadata": {},
   "outputs": [],
   "source": [
    "\n",
    "digit_label = [char_dict['一'],\n",
    "              char_dict['二'],\n",
    "              char_dict['三'],\n",
    "              char_dict['四'],\n",
    "              char_dict['五'],\n",
    "              char_dict['六'],\n",
    "              char_dict['七'],\n",
    "              char_dict['八'],\n",
    "              char_dict['九'],\n",
    "              char_dict['十']]\n",
    "digit_label"
   ]
  },
  {
   "cell_type": "code",
   "execution_count": null,
   "metadata": {},
   "outputs": [],
   "source": [
    "# 将目录索引转化为长度为5的数字，便于直接图区\n",
    "digit_dir = []\n",
    "for digit in digit_label:\n",
    "    digit_str = list(str(digit))\n",
    "    while len(digit_str) < 5:\n",
    "        digit_str.insert(0,'0')\n",
    "    digit_str = \"\".join(digit_str)\n",
    "    digit_dir.append(digit_str)\n",
    "digit_dir"
   ]
  },
  {
   "cell_type": "code",
   "execution_count": null,
   "metadata": {},
   "outputs": [],
   "source": [
    "# 将图片与标签，配对生成字典\n",
    "digit_dict = dict(zip(digit_dir,[1,2,3,4,5,6,7,8,9,10]))"
   ]
  },
  {
   "cell_type": "code",
   "execution_count": null,
   "metadata": {},
   "outputs": [],
   "source": [
    "# 生成所有的图片的文件路径和对应索引\n",
    "image_files=[]\n",
    "label_arr=[]\n",
    "dataPath = \"./dataset\"\n",
    "for char in digit_dir:\n",
    "    for image in os.listdir(os.path.join(dataPath,char)):\n",
    "        image_files.append(os.path.join(dataPath,char,image))\n",
    "        label_arr.append(int(digit_dict[char]))"
   ]
  },
  {
   "cell_type": "code",
   "execution_count": null,
   "metadata": {},
   "outputs": [],
   "source": [
    "# 存取变量便于模型读取图片\n",
    "joblib.dump(image_files,'image_files.pkl')\n",
    "joblib.dump(label_arr,'label_arr.pkl')"
   ]
  }
 ],
 "metadata": {
  "kernelspec": {
   "display_name": "Python 3",
   "language": "python",
   "name": "python3"
  },
  "language_info": {
   "codemirror_mode": {
    "name": "ipython",
    "version": 3
   },
   "file_extension": ".py",
   "mimetype": "text/x-python",
   "name": "python",
   "nbconvert_exporter": "python",
   "pygments_lexer": "ipython3",
   "version": "3.6.10"
  }
 },
 "nbformat": 4,
 "nbformat_minor": 4
}
